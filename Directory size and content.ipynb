{
 "cells": [
  {
   "cell_type": "markdown",
   "metadata": {},
   "source": [
    "#### Program calculates size of directory, and lists all files\n",
    "##### Just replace file path in directory variable"
   ]
  },
  {
   "cell_type": "code",
   "execution_count": 2,
   "metadata": {},
   "outputs": [
    {
     "name": "stdout",
     "output_type": "stream",
     "text": [
      "Total Size of all files in this Folder is 6237639 Bytes\n",
      "Here is an unordered list of all files:\n"
     ]
    },
    {
     "data": {
      "text/plain": [
       "['01 PPT Decks',\n",
       " '02 Materials',\n",
       " '04 Document repository',\n",
       " '05 Archive',\n",
       " '20180508_Token Design Framework´_v01.xlsx',\n",
       " '20180515_ICO Pricing_v01.xlsx',\n",
       " 'Crypto Research - shared.xlsx',\n",
       " 'CryptoCrunch Hedge Fund Analysis.url',\n",
       " 'Finalization GET Crowdsale Calculations.xlsx',\n",
       " 'ICO process project plan_v3_draft.xlsx',\n",
       " 'ICO Project Plan and Cost Calculation_v02.xlsx',\n",
       " 'ICO-Demo-Budget v1 - shared.xlsx',\n",
       " 'LifePound WhitePaper Draft 1.0..docx',\n",
       " 'Ostoya token economics draft.xlsx',\n",
       " 'UID Nummer AHV fuer Unternehmen.pdf',\n",
       " 'WhatsApp Image 2018-03-13 at 10.13.26.jpeg',\n",
       " 'WhatsApp Image 2018-03-13 at 10.13.27 (1).jpeg',\n",
       " 'WhatsApp Image 2018-03-13 at 10.13.27.jpeg',\n",
       " 'WhatsApp Image 2018-03-13 at 10.13.28.jpeg',\n",
       " 'WhatsApp Image 2018-03-13 at 10.14.10.jpeg',\n",
       " 'WhatsApp Image 2018-03-13 at 10.14.15.jpeg']"
      ]
     },
     "execution_count": 2,
     "metadata": {},
     "output_type": "execute_result"
    }
   ],
   "source": [
    "import os # Library for OS related functionality\n",
    "\n",
    "totalSize = 0\n",
    "directory = r'C:\\Users\\Jonathan\\Google Drive\\07 Selbstständigkeit'\n",
    "for filename in os.listdir(directory):\n",
    "    if not os.path.isfile(os.path.join (directory, filename)):\n",
    "         continue\n",
    "    totalSize = totalSize + os.path.getsize (os.path.join (directory, filename))\n",
    "                     \n",
    "print ('Total Size of all files in this Folder is', totalSize, 'Bytes')\n",
    "print ('Here is an unordered list of all files:')    \n",
    "\n",
    "os.listdir(directory)"
   ]
  },
  {
   "cell_type": "code",
   "execution_count": null,
   "metadata": {},
   "outputs": [],
   "source": []
  }
 ],
 "metadata": {
  "kernelspec": {
   "display_name": "Python 3",
   "language": "python",
   "name": "python3"
  },
  "language_info": {
   "codemirror_mode": {
    "name": "ipython",
    "version": 3
   },
   "file_extension": ".py",
   "mimetype": "text/x-python",
   "name": "python",
   "nbconvert_exporter": "python",
   "pygments_lexer": "ipython3",
   "version": "3.7.6"
  }
 },
 "nbformat": 4,
 "nbformat_minor": 4
}
